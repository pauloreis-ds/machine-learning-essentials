{
 "cells": [
  {
   "cell_type": "markdown",
   "metadata": {
    "vscode": {
     "languageId": "plaintext"
    }
   },
   "source": [
    "## Notebook Objectives\n",
    "\n",
    "Summarize the Necessary Knowleadge to Apply Clustering Models in Businesses\n"
   ]
  },
  {
   "cell_type": "markdown",
   "metadata": {},
   "source": [
    "### About the Models\n",
    "\n",
    "&emsp;&emsp;_How It Works_    \n",
    "&emsp;&emsp;_When to Use it_    \n",
    "&emsp;&emsp;_Advantages_    \n",
    "&emsp;&emsp;_Disadvantages_    \n",
    "&emsp;&emsp;_Statistical Assumptions_    \n",
    "&emsp;&emsp;_Parameters_    \n",
    "&emsp;&emsp;_More Explanations_\n",
    "\n",
    "[K-Means](#K-Means)<br>\n",
    "[DBSCAN](#DBSCAN)<br>\n",
    "[AgglomerativeClustering](#AgglomerativeClustering)<br>\n",
    "\n",
    "### Agenda\n",
    "\n",
    "[Business Questions](#Business-Questions)<br>\n",
    "\n",
    "[Imports](#Imports)<br>\n",
    "&emsp;[Functions](#Functions)<br>\n",
    "&emsp;[Settings](#Settings)<br>\n",
    "\n",
    "[Loading Data](#Loading-Data)<br>\n",
    "\n",
    "[Feature Engineering](#Feature-Engineering)<br>\n",
    "\n",
    "[Preprocessing](#Preprocessing)<br>\n",
    "&emsp;[Handling Missing Values](#Handling-Missing-Values)<br>\n",
    "&emsp;[Encoding Categorical Variables](#Encoding-Categorical-Variables)<br>\n",
    "&emsp;[Scaling/Normalizing Features](#Scaling/Normalizing-Features)<br>\n",
    "&emsp;[Handling Outliers](#Handling-Outliers)<br>\n",
    "\n",
    "[Feature Selection](#Feature-Selection)<br>\n",
    "\n",
    "[Models](#Models)<br>\n",
    "&emsp;[Choosing The Right Clustering Algorithm](#Choosing-The-Right-Clustering-Algorithm)<br>\n",
    "&emsp;[K-Means](#K-Means)<br>\n",
    "&emsp;[DBSCAN](#DBSCAN)<br>\n",
    "&emsp;[AgglomerativeClustering](#AgglomerativeClustering)<br>\n",
    "\n",
    "[Evaluation Metrics](#Evaluation-Metrics)<br>\n",
    "&emsp;[Choosing the Right Metric](#Choosing-the-Right-Metric)<br>\n",
    "\n",
    "[Feature Importances](#Feature-Importances)<br>\n",
    "\n",
    "[Cluster Analysis](#Cluster-Analysis)<br>\n",
    "&emsp;[Cluster Profiles](#Cluster-Profiles)<br>\n"
   ]
  },
  {
   "cell_type": "markdown",
   "metadata": {
    "vscode": {
     "languageId": "plaintext"
    }
   },
   "source": [
    "## Business Questions"
   ]
  },
  {
   "cell_type": "markdown",
   "metadata": {
    "vscode": {
     "languageId": "plaintext"
    }
   },
   "source": [
    "## Imports"
   ]
  },
  {
   "cell_type": "code",
   "execution_count": null,
   "metadata": {
    "vscode": {
     "languageId": "plaintext"
    }
   },
   "outputs": [],
   "source": []
  },
  {
   "cell_type": "markdown",
   "metadata": {
    "vscode": {
     "languageId": "plaintext"
    }
   },
   "source": [
    "## Models"
   ]
  },
  {
   "cell_type": "markdown",
   "metadata": {
    "vscode": {
     "languageId": "plaintext"
    }
   },
   "source": [
    "## Choosing The Right Clustering Algorithm"
   ]
  },
  {
   "cell_type": "code",
   "execution_count": null,
   "metadata": {
    "vscode": {
     "languageId": "plaintext"
    }
   },
   "outputs": [],
   "source": []
  },
  {
   "cell_type": "markdown",
   "metadata": {
    "vscode": {
     "languageId": "plaintext"
    }
   },
   "source": [
    "### K-Means"
   ]
  },
  {
   "cell_type": "code",
   "execution_count": null,
   "metadata": {
    "vscode": {
     "languageId": "plaintext"
    }
   },
   "outputs": [],
   "source": []
  },
  {
   "cell_type": "markdown",
   "metadata": {
    "vscode": {
     "languageId": "plaintext"
    }
   },
   "source": [
    "### DBSCAN"
   ]
  },
  {
   "cell_type": "code",
   "execution_count": null,
   "metadata": {
    "vscode": {
     "languageId": "plaintext"
    }
   },
   "outputs": [],
   "source": []
  },
  {
   "cell_type": "markdown",
   "metadata": {
    "vscode": {
     "languageId": "plaintext"
    }
   },
   "source": [
    "### AgglomerativeClustering"
   ]
  },
  {
   "cell_type": "markdown",
   "metadata": {},
   "source": []
  }
 ],
 "metadata": {
  "language_info": {
   "name": "python"
  }
 },
 "nbformat": 4,
 "nbformat_minor": 2
}
